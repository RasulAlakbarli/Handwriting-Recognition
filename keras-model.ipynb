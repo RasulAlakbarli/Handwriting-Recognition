{
 "cells": [
  {
   "cell_type": "code",
   "execution_count": 1,
   "id": "36f64d4a",
   "metadata": {},
   "outputs": [],
   "source": [
    "import numpy as np\n",
    "import matplotlib.pyplot as plt\n",
    "import os\n",
    "import random as random\n",
    "from tkinter import *"
   ]
  },
  {
   "cell_type": "code",
   "execution_count": 2,
   "id": "932f06ae",
   "metadata": {},
   "outputs": [],
   "source": [
    "from tensorflow import keras\n",
    "from keras.datasets import mnist\n",
    "from keras.models import Sequential, load_model\n",
    "from keras.layers import Dense, Activation, Dropout\n",
    "from keras.utils import np_utils"
   ]
  },
  {
   "cell_type": "code",
   "execution_count": 3,
   "id": "9ef2527e",
   "metadata": {},
   "outputs": [],
   "source": [
    "(train_X, train_y), (test_X, test_y) = mnist.load_data()\n",
    "test_X_visual = test_X"
   ]
  },
  {
   "cell_type": "code",
   "execution_count": 4,
   "id": "bffb7e82",
   "metadata": {},
   "outputs": [],
   "source": [
    "train_X = train_X.reshape(60000, 784) / 255\n",
    "test_X = test_X.reshape(10000, 784) / 255\n",
    "train_X = train_X.astype('float32')\n",
    "test_X = test_X.astype('float32')"
   ]
  },
  {
   "cell_type": "code",
   "execution_count": 5,
   "id": "bc55bfc1",
   "metadata": {},
   "outputs": [],
   "source": [
    "def one_hot(Y):\n",
    "    one_hot_Y = np.zeros((Y.max()+1,Y.size))\n",
    "    one_hot_Y[Y, np.arange(Y.size)] = 1\n",
    "    return one_hot_Y\n",
    "\n",
    "train_Y = one_hot(train_y).T\n",
    "test_Y = one_hot(test_y).T"
   ]
  },
  {
   "cell_type": "code",
   "execution_count": 6,
   "id": "a1ed296e",
   "metadata": {},
   "outputs": [
    {
     "name": "stdout",
     "output_type": "stream",
     "text": [
      "Shape of Train_X:  (60000, 784)\n",
      "Shape of Train_Y:  (60000, 10)\n"
     ]
    }
   ],
   "source": [
    "print(\"Shape of Train_X: \", train_X.shape)\n",
    "print(\"Shape of Train_Y: \", train_Y.shape)"
   ]
  },
  {
   "cell_type": "code",
   "execution_count": 7,
   "id": "0bf4b6e6",
   "metadata": {},
   "outputs": [],
   "source": [
    "model = Sequential()\n",
    "\n",
    "model.add(Dense(512, input_shape = (784,)))\n",
    "model.add(Activation('relu'))\n",
    "model.add(Dropout(0.2))\n",
    "\n",
    "model.add(Dense(512))\n",
    "model.add(Activation('relu'))\n",
    "model.add(Dropout(0.2))\n",
    "\n",
    "model.add(Dense(10))\n",
    "model.add(Activation('softmax'))"
   ]
  },
  {
   "cell_type": "code",
   "execution_count": 8,
   "id": "37e7d319",
   "metadata": {},
   "outputs": [],
   "source": [
    "model.compile(loss='categorical_crossentropy', metrics=['accuracy'], optimizer='adam')"
   ]
  },
  {
   "cell_type": "code",
   "execution_count": 9,
   "id": "99fcdc2c",
   "metadata": {},
   "outputs": [
    {
     "name": "stdout",
     "output_type": "stream",
     "text": [
      "Epoch 1/20\n",
      "469/469 - 6s - loss: 0.2502 - accuracy: 0.9252 - val_loss: 0.0896 - val_accuracy: 0.9731 - 6s/epoch - 14ms/step\n",
      "Epoch 2/20\n",
      "469/469 - 6s - loss: 0.1006 - accuracy: 0.9690 - val_loss: 0.0561 - val_accuracy: 0.9823 - 6s/epoch - 13ms/step\n",
      "Epoch 3/20\n",
      "469/469 - 6s - loss: 0.0712 - accuracy: 0.9774 - val_loss: 0.0352 - val_accuracy: 0.9892 - 6s/epoch - 13ms/step\n",
      "Epoch 4/20\n",
      "469/469 - 6s - loss: 0.0568 - accuracy: 0.9816 - val_loss: 0.0311 - val_accuracy: 0.9902 - 6s/epoch - 13ms/step\n",
      "Epoch 5/20\n",
      "469/469 - 6s - loss: 0.0484 - accuracy: 0.9836 - val_loss: 0.0210 - val_accuracy: 0.9934 - 6s/epoch - 13ms/step\n",
      "Epoch 6/20\n",
      "469/469 - 6s - loss: 0.0409 - accuracy: 0.9871 - val_loss: 0.0134 - val_accuracy: 0.9963 - 6s/epoch - 13ms/step\n",
      "Epoch 7/20\n",
      "469/469 - 6s - loss: 0.0339 - accuracy: 0.9889 - val_loss: 0.0133 - val_accuracy: 0.9959 - 6s/epoch - 13ms/step\n",
      "Epoch 8/20\n",
      "469/469 - 6s - loss: 0.0308 - accuracy: 0.9898 - val_loss: 0.0103 - val_accuracy: 0.9969 - 6s/epoch - 13ms/step\n",
      "Epoch 9/20\n",
      "469/469 - 6s - loss: 0.0271 - accuracy: 0.9908 - val_loss: 0.0125 - val_accuracy: 0.9960 - 6s/epoch - 14ms/step\n",
      "Epoch 10/20\n",
      "469/469 - 6s - loss: 0.0243 - accuracy: 0.9916 - val_loss: 0.0153 - val_accuracy: 0.9948 - 6s/epoch - 13ms/step\n",
      "Epoch 11/20\n",
      "469/469 - 6s - loss: 0.0244 - accuracy: 0.9924 - val_loss: 0.0089 - val_accuracy: 0.9973 - 6s/epoch - 14ms/step\n",
      "Epoch 12/20\n",
      "469/469 - 6s - loss: 0.0207 - accuracy: 0.9931 - val_loss: 0.0056 - val_accuracy: 0.9984 - 6s/epoch - 13ms/step\n",
      "Epoch 13/20\n",
      "469/469 - 6s - loss: 0.0198 - accuracy: 0.9932 - val_loss: 0.0084 - val_accuracy: 0.9971 - 6s/epoch - 14ms/step\n",
      "Epoch 14/20\n",
      "469/469 - 6s - loss: 0.0237 - accuracy: 0.9921 - val_loss: 0.0076 - val_accuracy: 0.9977 - 6s/epoch - 13ms/step\n",
      "Epoch 15/20\n",
      "469/469 - 6s - loss: 0.0166 - accuracy: 0.9945 - val_loss: 0.0053 - val_accuracy: 0.9981 - 6s/epoch - 13ms/step\n",
      "Epoch 16/20\n",
      "469/469 - 6s - loss: 0.0190 - accuracy: 0.9938 - val_loss: 0.0046 - val_accuracy: 0.9985 - 6s/epoch - 14ms/step\n",
      "Epoch 17/20\n",
      "469/469 - 6s - loss: 0.0150 - accuracy: 0.9954 - val_loss: 0.0051 - val_accuracy: 0.9984 - 6s/epoch - 13ms/step\n",
      "Epoch 18/20\n",
      "469/469 - 6s - loss: 0.0184 - accuracy: 0.9945 - val_loss: 0.0043 - val_accuracy: 0.9987 - 6s/epoch - 14ms/step\n",
      "Epoch 19/20\n",
      "469/469 - 6s - loss: 0.0140 - accuracy: 0.9949 - val_loss: 0.0044 - val_accuracy: 0.9987 - 6s/epoch - 13ms/step\n",
      "Epoch 20/20\n",
      "469/469 - 6s - loss: 0.0150 - accuracy: 0.9951 - val_loss: 0.0044 - val_accuracy: 0.9986 - 6s/epoch - 13ms/step\n"
     ]
    }
   ],
   "source": [
    "history = model.fit(train_X, train_Y,\n",
    "                   batch_size=128, epochs=20,\n",
    "                   verbose=2,\n",
    "                   validation_data=(train_X, train_Y))"
   ]
  },
  {
   "cell_type": "code",
   "execution_count": 10,
   "id": "c27f51ec",
   "metadata": {},
   "outputs": [
    {
     "name": "stdout",
     "output_type": "stream",
     "text": [
      "Saved trained model at /Desktop/Neural Network Projects/Handwriting Recognition/keras_mnist.h5 \n"
     ]
    }
   ],
   "source": [
    "save_dir = \"/Desktop/Neural Network Projects/Handwriting Recognition/\"\n",
    "model_name = 'keras_mnist.h5'\n",
    "model_path = os.path.join(save_dir, model_name)\n",
    "model.save(model_path)\n",
    "print('Saved trained model at %s ' % model_path)"
   ]
  },
  {
   "cell_type": "code",
   "execution_count": 13,
   "id": "4d71b935",
   "metadata": {},
   "outputs": [
    {
     "name": "stdout",
     "output_type": "stream",
     "text": [
      "313/313 [==============================] - 1s 3ms/step - loss: 0.0800 - accuracy: 0.9826\n",
      "313/313 [==============================] - 1s 3ms/step\n",
      "Model loss:  0.0800371915102005\n",
      "Model accuracy:  0.9825999736785889\n"
     ]
    }
   ],
   "source": [
    "mnist_model = load_model(\"/Desktop/Neural Network Projects/Handwriting Recognition/keras_mnist.h5\")\n",
    "\n",
    "loss_and_metrics = mnist_model.evaluate(test_X, test_Y)\n",
    "\n",
    "predicted_classes = mnist_model.predict(test_X)\n",
    "\n",
    "print(\"Model loss: \", loss_and_metrics[0])\n",
    "print(\"Model accuracy: \", loss_and_metrics[1])"
   ]
  },
  {
   "cell_type": "code",
   "execution_count": 18,
   "id": "4a6f9421",
   "metadata": {},
   "outputs": [
    {
     "data": {
      "image/png": "[encoded data removed]",
      "text/plain": [
       "<Figure size 432x288 with 1 Axes>"
      ]
     },
     "metadata": {
      "needs_background": "light"
     },
     "output_type": "display_data"
    },
    {
     "name": "stdout",
     "output_type": "stream",
     "text": [
      "Actual Value:  3\n",
      "Predicted Value:  3\n"
     ]
    }
   ],
   "source": [
    "random_number = random.randint(1, 9999)\n",
    "\n",
    "image = test_X_visual[random_number]\n",
    "plt.imshow(image, cmap='gray')\n",
    "plt.show()\n",
    "\n",
    "print(\"Actual Value: \", test_y[random_number])\n",
    "print(\"Predicted Value: \", np.argmax(predicted_classes[random_number]))"
   ]
  },
  {
   "cell_type": "code",
   "execution_count": null,
   "id": "bb388354",
   "metadata": {},
   "outputs": [],
   "source": []
  }
 ],
 "metadata": {
  "kernelspec": {
   "display_name": "Python 3 (ipykernel)",
   "language": "python",
   "name": "python3"
  },
  "language_info": {
   "codemirror_mode": {
    "name": "ipython",
    "version": 3
   },
   "file_extension": ".py",
   "mimetype": "text/x-python",
   "name": "python",
   "nbconvert_exporter": "python",
   "pygments_lexer": "ipython3",
   "version": "3.10.2"
  }
 },
 "nbformat": 4,
 "nbformat_minor": 5
}
