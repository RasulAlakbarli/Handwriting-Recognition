{
 "cells": [
  {
   "cell_type": "code",
   "execution_count": 40,
   "id": "39f56635",
   "metadata": {},
   "outputs": [],
   "source": [
    "import numpy as np\n",
    "import pandas as pd\n",
    "import matplotlib.pyplot as plt\n",
    "\n",
    "import tensorflow as tf\n",
    "from keras.datasets import mnist\n",
    "from tensorflow import keras\n",
    "from keras.models import Sequential, load_model\n",
    "from keras.layers import Dense, Conv2D, MaxPool2D, Activation, Flatten"
   ]
  },
  {
   "cell_type": "code",
   "execution_count": 56,
   "id": "f62e97a5",
   "metadata": {},
   "outputs": [
    {
     "data": {
      "text/plain": [
       "(60000, 28, 28)"
      ]
     },
     "execution_count": 56,
     "metadata": {},
     "output_type": "execute_result"
    }
   ],
   "source": [
    "# Loading dataset\n",
    "(train_X, train_y), (test_X, test_y) = mnist.load_data()\n",
    "\n",
    "# Normalizing dataset\n",
    "train_X = train_X/255\n",
    "test_X = test_X/255\n",
    "train_X.shape"
   ]
  },
  {
   "cell_type": "code",
   "execution_count": 13,
   "id": "7a7d2481",
   "metadata": {},
   "outputs": [],
   "source": [
    "# One hot encoding Y \n",
    "def one_hot(Y):\n",
    "    one_hot_Y = np.zeros((Y.max()+1,Y.size))\n",
    "    one_hot_Y[Y, np.arange(Y.size)] = 1\n",
    "    return one_hot_Y\n",
    "\n",
    "train_Y = one_hot(train_y).T\n",
    "test_Y = one_hot(test_y).T"
   ]
  },
  {
   "cell_type": "code",
   "execution_count": 98,
   "id": "c700c502",
   "metadata": {},
   "outputs": [],
   "source": [
    "# Creating model\n",
    "model = keras.Sequential()\n",
    "model.add(Conv2D(1, (3, 3), activation='linear', padding='same', strides=1, input_shape=(28, 28, 1)))\n",
    "model.add(Activation('relu'))\n",
    "# model.add(MaxPool2D(pool_size=(2, 2), padding='same'))\n",
    "# model.add(Conv2D(2, 2, activation='linear', padding='same', strides=1))\n",
    "# model.add(Activation('relu'))\n",
    "# model.add(MaxPool2D(pool_size=(2, 2), padding='same'))\n",
    "model.add(Flatten())\n",
    "model.add(Dense(10, activation='softmax'))\n",
    "\n",
    "model.compile(optimizer='adam',\n",
    "                  loss='categorical_crossentropy',\n",
    "                  metrics=['accuracy'])"
   ]
  },
  {
   "cell_type": "code",
   "execution_count": 99,
   "id": "10bb15eb",
   "metadata": {},
   "outputs": [
    {
     "name": "stdout",
     "output_type": "stream",
     "text": [
      "Model: \"sequential_27\"\n",
      "_________________________________________________________________\n",
      " Layer (type)                Output Shape              Param #   \n",
      "=================================================================\n",
      " conv2d_28 (Conv2D)          (None, 28, 28, 1)         10        \n",
      "                                                                 \n",
      " activation_22 (Activation)  (None, 28, 28, 1)         0         \n",
      "                                                                 \n",
      " flatten_19 (Flatten)        (None, 784)               0         \n",
      "                                                                 \n",
      " dense_16 (Dense)            (None, 10)                7850      \n",
      "                                                                 \n",
      "=================================================================\n",
      "Total params: 7,860\n",
      "Trainable params: 7,860\n",
      "Non-trainable params: 0\n",
      "_________________________________________________________________\n"
     ]
    }
   ],
   "source": [
    "model.summary()"
   ]
  },
  {
   "cell_type": "code",
   "execution_count": 100,
   "id": "12b890c8",
   "metadata": {},
   "outputs": [
    {
     "name": "stdout",
     "output_type": "stream",
     "text": [
      "Epoch 1/10\n",
      "938/938 [==============================] - 9s 9ms/step - loss: 0.5048 - accuracy: 0.8622 - val_loss: 0.3106 - val_accuracy: 0.9110\n",
      "Epoch 2/10\n",
      "938/938 [==============================] - 10s 10ms/step - loss: 0.3031 - accuracy: 0.9139 - val_loss: 0.2887 - val_accuracy: 0.9176\n",
      "Epoch 3/10\n",
      "938/938 [==============================] - 10s 10ms/step - loss: 0.2865 - accuracy: 0.9197 - val_loss: 0.2810 - val_accuracy: 0.9208\n",
      "Epoch 4/10\n",
      "938/938 [==============================] - 10s 10ms/step - loss: 0.2780 - accuracy: 0.9220 - val_loss: 0.2765 - val_accuracy: 0.9219\n",
      "Epoch 5/10\n",
      "938/938 [==============================] - 10s 11ms/step - loss: 0.2721 - accuracy: 0.9238 - val_loss: 0.2733 - val_accuracy: 0.9229\n",
      "Epoch 6/10\n",
      "938/938 [==============================] - 10s 11ms/step - loss: 0.2675 - accuracy: 0.9249 - val_loss: 0.2709 - val_accuracy: 0.9231\n",
      "Epoch 7/10\n",
      "938/938 [==============================] - 10s 10ms/step - loss: 0.2637 - accuracy: 0.9263 - val_loss: 0.2689 - val_accuracy: 0.9236\n",
      "Epoch 8/10\n",
      "938/938 [==============================] - 11s 12ms/step - loss: 0.2604 - accuracy: 0.9275 - val_loss: 0.2672 - val_accuracy: 0.9240\n",
      "Epoch 9/10\n",
      "938/938 [==============================] - 10s 11ms/step - loss: 0.2573 - accuracy: 0.9285 - val_loss: 0.2658 - val_accuracy: 0.9246\n",
      "Epoch 10/10\n",
      "938/938 [==============================] - 10s 11ms/step - loss: 0.2546 - accuracy: 0.9293 - val_loss: 0.2645 - val_accuracy: 0.9245\n"
     ]
    }
   ],
   "source": [
    "# Training model\n",
    "train_dataset = tf.data.Dataset.from_tensor_slices((train_X, train_Y)).batch(64)\n",
    "test_dataset = tf.data.Dataset.from_tensor_slices((test_X, test_Y)).batch(64)\n",
    "history = model.fit(train_dataset, epochs=10, validation_data=test_dataset)"
   ]
  },
  {
   "cell_type": "code",
   "execution_count": 101,
   "id": "25e273c9",
   "metadata": {},
   "outputs": [
    {
     "data": {
      "text/plain": [
       "{'loss': [0.5048062801361084,\n",
       "  0.30312296748161316,\n",
       "  0.28649789094924927,\n",
       "  0.27799445390701294,\n",
       "  0.27213773131370544,\n",
       "  0.26754045486450195,\n",
       "  0.26370957493782043,\n",
       "  0.26035335659980774,\n",
       "  0.25732913613319397,\n",
       "  0.254560649394989],\n",
       " 'accuracy': [0.8621500134468079,\n",
       "  0.9139000177383423,\n",
       "  0.9196666479110718,\n",
       "  0.921999990940094,\n",
       "  0.9238499999046326,\n",
       "  0.9248999953269958,\n",
       "  0.9262833595275879,\n",
       "  0.9275166392326355,\n",
       "  0.928516685962677,\n",
       "  0.9292500019073486],\n",
       " 'val_loss': [0.3105638027191162,\n",
       "  0.2887009382247925,\n",
       "  0.2810029089450836,\n",
       "  0.2764620780944824,\n",
       "  0.27331066131591797,\n",
       "  0.2708668112754822,\n",
       "  0.268897145986557,\n",
       "  0.26722145080566406,\n",
       "  0.2657996118068695,\n",
       "  0.2645088732242584],\n",
       " 'val_accuracy': [0.9110000133514404,\n",
       "  0.9175999760627747,\n",
       "  0.920799970626831,\n",
       "  0.9218999743461609,\n",
       "  0.9229000210762024,\n",
       "  0.9230999946594238,\n",
       "  0.9236000180244446,\n",
       "  0.9240000247955322,\n",
       "  0.9246000051498413,\n",
       "  0.9244999885559082]}"
      ]
     },
     "execution_count": 101,
     "metadata": {},
     "output_type": "execute_result"
    }
   ],
   "source": [
    "history.history"
   ]
  },
  {
   "cell_type": "code",
   "execution_count": 102,
   "id": "76002c53",
   "metadata": {},
   "outputs": [
    {
     "name": "stderr",
     "output_type": "stream",
     "text": [
      "C:\\Users\\rasul\\AppData\\Local\\Temp\\ipykernel_9000\\973814028.py:5: SettingWithCopyWarning: \n",
      "A value is trying to be set on a copy of a slice from a DataFrame\n",
      "\n",
      "See the caveats in the documentation: https://pandas.pydata.org/pandas-docs/stable/user_guide/indexing.html#returning-a-view-versus-a-copy\n",
      "  df_loss.rename(columns={'loss':'train','val_loss':'validation'},inplace=True)\n",
      "C:\\Users\\rasul\\AppData\\Local\\Temp\\ipykernel_9000\\973814028.py:7: SettingWithCopyWarning: \n",
      "A value is trying to be set on a copy of a slice from a DataFrame\n",
      "\n",
      "See the caveats in the documentation: https://pandas.pydata.org/pandas-docs/stable/user_guide/indexing.html#returning-a-view-versus-a-copy\n",
      "  df_acc.rename(columns={'accuracy':'train','val_accuracy':'validation'},inplace=True)\n"
     ]
    },
    {
     "data": {
      "text/plain": [
       "[Text(0.5, 0, 'Epoch'), Text(0, 0.5, 'Accuracy')]"
      ]
     },
     "execution_count": 102,
     "metadata": {},
     "output_type": "execute_result"
    },
    {
     "data": {
      "image/png": "[encoded data removed]",
      "text/plain": [
       "<Figure size 864x576 with 1 Axes>"
      ]
     },
     "metadata": {
      "needs_background": "light"
     },
     "output_type": "display_data"
    },
    {
     "data": {
      "image/png": "[encoded data removed]",
      "text/plain": [
       "<Figure size 864x576 with 1 Axes>"
      ]
     },
     "metadata": {
      "needs_background": "light"
     },
     "output_type": "display_data"
    }
   ],
   "source": [
    "# The history.history[\"loss\"] entry is a dictionary with as many values as epochs that the\n",
    "# model was trained on. \n",
    "df_loss_acc = pd.DataFrame(history.history)\n",
    "df_loss= df_loss_acc[['loss','val_loss']]\n",
    "df_loss.rename(columns={'loss':'train','val_loss':'validation'},inplace=True)\n",
    "df_acc= df_loss_acc[['accuracy','val_accuracy']]\n",
    "df_acc.rename(columns={'accuracy':'train','val_accuracy':'validation'},inplace=True)\n",
    "df_loss.plot(title='Model loss',figsize=(12,8)).set(xlabel='Epoch',ylabel='Loss')\n",
    "df_acc.plot(title='Model Accuracy',figsize=(12,8)).set(xlabel='Epoch',ylabel='Accuracy')"
   ]
  },
  {
   "cell_type": "code",
   "execution_count": 103,
   "id": "13a008f9",
   "metadata": {},
   "outputs": [
    {
     "name": "stdout",
     "output_type": "stream",
     "text": [
      "313/313 [==============================] - 1s 3ms/step\n"
     ]
    }
   ],
   "source": [
    "predict = model.predict(test_X)"
   ]
  },
  {
   "cell_type": "code",
   "execution_count": 118,
   "id": "42c7cc72",
   "metadata": {},
   "outputs": [
    {
     "name": "stdout",
     "output_type": "stream",
     "text": [
      "Actual value:  1 \n",
      "Predicted value:  1\n"
     ]
    }
   ],
   "source": [
    "def give_num(lst):\n",
    "#     max_value = max(lst)\n",
    "#     max_index = lst.index(max_value)\n",
    "    return np.argmax(lst)\n",
    "i = 31\n",
    "print(\"Actual value: \", give_num(test_Y[i]), \"\\nPredicted value: \", give_num(predict[i]))"
   ]
  },
  {
   "cell_type": "code",
   "execution_count": null,
   "id": "40a8b6d8",
   "metadata": {},
   "outputs": [],
   "source": []
  }
 ],
 "metadata": {
  "kernelspec": {
   "display_name": "Python 3 (ipykernel)",
   "language": "python",
   "name": "python3"
  },
  "language_info": {
   "codemirror_mode": {
    "name": "ipython",
    "version": 3
   },
   "file_extension": ".py",
   "mimetype": "text/x-python",
   "name": "python",
   "nbconvert_exporter": "python",
   "pygments_lexer": "ipython3",
   "version": "3.10.6"
  }
 },
 "nbformat": 4,
 "nbformat_minor": 5
}
