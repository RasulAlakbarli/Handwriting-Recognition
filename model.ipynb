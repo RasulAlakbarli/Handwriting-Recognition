{
 "cells": [
  {
   "cell_type": "code",
   "execution_count": 5,
   "id": "9a962869",
   "metadata": {},
   "outputs": [],
   "source": [
    "from tensorflow import keras\n",
    "import numpy as np\n",
    "from keras.datasets import mnist\n",
    "from matplotlib import pyplot\n",
    "import random as random\n",
    "import matplotlib.pyplot as plt"
   ]
  },
  {
   "cell_type": "code",
   "execution_count": 27,
   "id": "b8d9b6e7",
   "metadata": {},
   "outputs": [
    {
     "name": "stdout",
     "output_type": "stream",
     "text": [
      "(60000, 28, 28)\n",
      "(784, 60000)\n"
     ]
    },
    {
     "data": {
      "text/plain": [
       "(60000,)"
      ]
     },
     "execution_count": 27,
     "metadata": {},
     "output_type": "execute_result"
    }
   ],
   "source": [
    "(train_X, train_Y), (test_X, test_Y) = mnist.load_data()\n",
    "SCALE_FACTOR = 255\n",
    "WIDTH = train_X.shape[1]\n",
    "HEIGHT = train_X.shape[2]\n",
    "\n",
    "print(train_X.shape)\n",
    "train_X = train_X.reshape(train_X.shape[0], WIDTH*HEIGHT).T / SCALE_FACTOR\n",
    "test_X = test_X.reshape(test_X.shape[0], WIDTH*HEIGHT).T  / SCALE_FACTOR\n",
    "print(train_X.shape)\n",
    "train_X[0].shape"
   ]
  },
  {
   "cell_type": "code",
   "execution_count": 7,
   "id": "8f4fc49b",
   "metadata": {},
   "outputs": [],
   "source": [
    "def init_params(size):\n",
    "    w1 = np.random.rand(10, size) - 0.5\n",
    "    b1 = np.random.rand(10, 1) -0.5\n",
    "    w2 = np.random.rand(10, 10) - 0.5\n",
    "    b2 = np.random.rand(10, 1) - 0.5\n",
    "    return w1, b1, w2, b2\n",
    "\n",
    "def relU(Z):\n",
    "    return np.maximum(Z, 0)\n",
    "\n",
    "def deriv_relU(relu):\n",
    "    return relu > 0\n",
    "\n",
    "def softmax(Z):\n",
    "    exp = np.exp(Z - np.max(Z))\n",
    "    return exp / exp.sum(axis=0)\n",
    "\n",
    "def one_hot(Y):\n",
    "    one_hot_Y = np.zeros((Y.max()+1,Y.size))\n",
    "    one_hot_Y[Y, np.arange(Y.size)] = 1\n",
    "    return one_hot_Y\n",
    "\n",
    "\n",
    "######################################################################\n",
    "def forward_prop(w1, b1, w2, b2, X):\n",
    "    Z1 = w1.dot(X) + b1\n",
    "    A1 = relU(Z1)\n",
    "    Z2 = w2.dot(A1) + b2\n",
    "    A2 = softmax(Z2)\n",
    "    \n",
    "    return Z1, A1, Z2, A2\n",
    "\n",
    "def back_prop(Z2, A2, Z1, A1, w2, X, Y, m):\n",
    "    one_hot_Y = one_hot(Y)\n",
    "    \n",
    "    dZ2 = 2*(A2 - one_hot_Y)\n",
    "    dw2 = (1/m) * (dZ2.dot(A1.T))\n",
    "    db2 = (1/m) * (np.sum(dZ2, 1))\n",
    "    \n",
    "    dZ1 = w2.T.dot(dZ2) * deriv_relU(Z1)\n",
    "    dw1 = (1/m) * (dZ1.dot(X.T))\n",
    "    db1 = (1/m) * np.sum(dZ1, 1)\n",
    "    \n",
    "    return dw1, db1, dw2, db2\n",
    "\n",
    "def update_param(w1, b1, w2, b2, dw1, db1, dw2, db2, lr):\n",
    "    w1 = w1 - lr*dw1\n",
    "    b1 = b1 - lr* np.reshape(db1, (10,1))\n",
    "    \n",
    "    w2 = w2 - lr*dw2\n",
    "    b2 = b2 - lr* np.reshape(db2, (10,1))\n",
    "    \n",
    "    return w1, b1, w2, b2\n",
    "\n",
    "\n",
    "######################################################################\n",
    "def get_predictions(A2):\n",
    "    return np.argmax(A2, 0)\n",
    "\n",
    "def get_accuracy(predictions, Y):\n",
    "    return np.sum(predictions == Y)/Y.size\n",
    "\n",
    "def grad_descent(X, Y, iterations, lr):\n",
    "    size , m = X.shape\n",
    "    w1, b1, w2, b2 = init_params(size)\n",
    "    for i in range(iterations):\n",
    "        Z1, A1, Z2, A2 = forward_prop(w1, b1, w2, b2, X)\n",
    "        dw1, db1, dw2, db2 = back_prop(Z2, A2, Z1, A1, w2, X, Y, m)\n",
    "        w1, b1, w2, b2 = update_param(w1, b1, w2, b2, dw1, db1, dw2, db2, lr)\n",
    "        if i%50 == 0:\n",
    "            print(\"Iteration: \", i, '\\nAccuracy: ', get_accuracy(get_predictions(A2), Y))\n",
    "    return w1, b1, w2, b2"
   ]
  },
  {
   "cell_type": "code",
   "execution_count": 8,
   "id": "b183261a",
   "metadata": {},
   "outputs": [
    {
     "name": "stdout",
     "output_type": "stream",
     "text": [
      "Iteration:  0 \n",
      "Accuracy:  0.10406666666666667\n",
      "Iteration:  50 \n",
      "Accuracy:  0.7269\n",
      "Iteration:  100 \n",
      "Accuracy:  0.80045\n",
      "Iteration:  150 \n",
      "Accuracy:  0.8407666666666667\n",
      "Iteration:  200 \n",
      "Accuracy:  0.858\n",
      "Iteration:  250 \n",
      "Accuracy:  0.8679\n"
     ]
    }
   ],
   "source": [
    "w1, b1, w2, b2 = grad_descent(train_X, train_Y, 300, 0.15)"
   ]
  },
  {
   "cell_type": "code",
   "execution_count": 17,
   "id": "03b60cc1",
   "metadata": {},
   "outputs": [
    {
     "data": {
      "image/png": "[encoded data removed]",
      "text/plain": [
       "<Figure size 432x288 with 1 Axes>"
      ]
     },
     "metadata": {
      "needs_background": "light"
     },
     "output_type": "display_data"
    },
    {
     "name": "stdout",
     "output_type": "stream",
     "text": [
      "Label:  9\n",
      "Prediction:  [9]\n"
     ]
    },
    {
     "data": {
      "image/png": "[encoded data removed]",
      "text/plain": [
       "<Figure size 432x288 with 1 Axes>"
      ]
     },
     "metadata": {
      "needs_background": "light"
     },
     "output_type": "display_data"
    },
    {
     "name": "stdout",
     "output_type": "stream",
     "text": [
      "Label:  2\n",
      "Prediction:  [2]\n"
     ]
    },
    {
     "data": {
      "image/png": "[encoded data removed]",
      "text/plain": [
       "<Figure size 432x288 with 1 Axes>"
      ]
     },
     "metadata": {
      "needs_background": "light"
     },
     "output_type": "display_data"
    },
    {
     "name": "stdout",
     "output_type": "stream",
     "text": [
      "Label:  1\n",
      "Prediction:  [1]\n"
     ]
    },
    {
     "data": {
      "image/png": "[encoded data removed]",
      "text/plain": [
       "<Figure size 432x288 with 1 Axes>"
      ]
     },
     "metadata": {
      "needs_background": "light"
     },
     "output_type": "display_data"
    },
    {
     "name": "stdout",
     "output_type": "stream",
     "text": [
      "Label:  6\n",
      "Prediction:  [6]\n"
     ]
    },
    {
     "data": {
      "image/png": "[encoded data removed]",
      "text/plain": [
       "<Figure size 432x288 with 1 Axes>"
      ]
     },
     "metadata": {
      "needs_background": "light"
     },
     "output_type": "display_data"
    },
    {
     "name": "stdout",
     "output_type": "stream",
     "text": [
      "Label:  3\n",
      "Prediction:  [3]\n"
     ]
    }
   ],
   "source": [
    "def make_predictions(X, w1 ,b1, w2, b2):\n",
    "    _, _, _, A2 = forward_prop(w1, b1, w2, b2, X)\n",
    "    predictions = get_predictions(A2)\n",
    "    return predictions\n",
    "\n",
    "def show_prediction(index,X, Y, W1, b1, W2, b2):\n",
    "    vect_X = X[:, index,None]\n",
    "    prediction = make_predictions(vect_X, W1, b1, W2, b2)\n",
    "    label = Y[index]\n",
    "    current_image = vect_X.reshape((WIDTH, HEIGHT)) * SCALE_FACTOR\n",
    "\n",
    "    plt.gray()\n",
    "    plt.imshow(current_image, interpolation='nearest')\n",
    "    plt.show()\n",
    "    print(\"Label: \", label)\n",
    "    print(\"Prediction: \", prediction)\n",
    "    \n",
    "show_prediction(1000 , test_X, test_Y, w1, b1, w2, b2)\n",
    "show_prediction(1,test_X, test_Y, w1, b1, w2, b2)\n",
    "show_prediction(2,test_X, test_Y, w1, b1, w2, b2)\n",
    "show_prediction(100,test_X, test_Y, w1, b1, w2, b2)\n",
    "show_prediction(200,test_X, test_Y, w1, b1, w2, b2)"
   ]
  },
  {
   "cell_type": "code",
   "execution_count": null,
   "id": "07835be8",
   "metadata": {},
   "outputs": [],
   "source": []
  }
 ],
 "metadata": {
  "kernelspec": {
   "display_name": "Python 3 (ipykernel)",
   "language": "python",
   "name": "python3"
  },
  "language_info": {
   "codemirror_mode": {
    "name": "ipython",
    "version": 3
   },
   "file_extension": ".py",
   "mimetype": "text/x-python",
   "name": "python",
   "nbconvert_exporter": "python",
   "pygments_lexer": "ipython3",
   "version": "3.10.2"
  }
 },
 "nbformat": 4,
 "nbformat_minor": 5
}
